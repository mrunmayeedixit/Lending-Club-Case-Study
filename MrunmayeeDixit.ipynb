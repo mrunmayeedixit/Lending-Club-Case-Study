{
 "cells": [
  {
   "cell_type": "markdown",
   "metadata": {},
   "source": [
    "#### Import necessary libraries"
   ]
  },
  {
   "cell_type": "code",
   "execution_count": 267,
   "metadata": {},
   "outputs": [],
   "source": [
    "import numpy as np\n",
    "import pandas as pd\n",
    "import matplotlib.pyplot as plt\n",
    "import seaborn as sbn"
   ]
  },
  {
   "cell_type": "markdown",
   "metadata": {},
   "source": [
    " #### Get the loan data from csv file to pandas dataframe"
   ]
  },
  {
   "cell_type": "code",
   "execution_count": 268,
   "metadata": {},
   "outputs": [
    {
     "name": "stderr",
     "output_type": "stream",
     "text": [
      "C:\\Users\\Mrunmayee Dixit\\AppData\\Local\\Temp\\ipykernel_25440\\2331117883.py:1: DtypeWarning: Columns (47) have mixed types. Specify dtype option on import or set low_memory=False.\n",
      "  loan_Information_df = pd.read_csv(r\"C:\\Users\\Mrunmayee Dixit\\Documents\\Upgrad\\Case Study\\Lending Club Case Study\\loan\\loan.csv\")\n"
     ]
    },
    {
     "data": {
      "text/plain": [
       "(39717, 111)"
      ]
     },
     "execution_count": 268,
     "metadata": {},
     "output_type": "execute_result"
    }
   ],
   "source": [
    "loan_Information_df = pd.read_csv(r\"C:\\Users\\Mrunmayee Dixit\\Documents\\Upgrad\\Case Study\\Lending Club Case Study\\loan\\loan.csv\")\n",
    "loan_Information_df.shape"
   ]
  },
  {
   "cell_type": "markdown",
   "metadata": {},
   "source": [
    "## Data cleaning activity "
   ]
  },
  {
   "cell_type": "markdown",
   "metadata": {},
   "source": [
    "### Fix Rows and Columns - \n",
    "1. There are no header and footer rows which we need to delete.\n",
    "2. No summery rows  like total, subtotal rows.\n",
    "3. No Extra rows indicating column numbers.\n",
    "4. No absent column names.\n",
    "5. Deleting unecessary columns is required. which contain more null values and which are not very relevent for our case study."
   ]
  },
  {
   "cell_type": "code",
   "execution_count": 269,
   "metadata": {},
   "outputs": [
    {
     "data": {
      "text/plain": [
       "(39717, 57)"
      ]
     },
     "execution_count": 269,
     "metadata": {},
     "output_type": "execute_result"
    }
   ],
   "source": [
    "# Deleting the columns with null values\n",
    "loan_Information_df.drop(loan_Information_df.columns[loan_Information_df.isna().all()], axis = 1, inplace = True)\n",
    "loan_Information_df.shape"
   ]
  },
  {
   "cell_type": "code",
   "execution_count": 270,
   "metadata": {},
   "outputs": [
    {
     "data": {
      "text/plain": [
       "Index(['id', 'member_id', 'loan_amnt', 'funded_amnt', 'funded_amnt_inv',\n",
       "       'term', 'int_rate', 'installment', 'grade', 'sub_grade', 'emp_title',\n",
       "       'emp_length', 'home_ownership', 'annual_inc', 'verification_status',\n",
       "       'issue_d', 'loan_status', 'pymnt_plan', 'url', 'desc', 'purpose',\n",
       "       'title', 'zip_code', 'addr_state', 'dti', 'delinq_2yrs',\n",
       "       'earliest_cr_line', 'inq_last_6mths', 'mths_since_last_delinq',\n",
       "       'mths_since_last_record', 'open_acc', 'pub_rec', 'revol_bal',\n",
       "       'revol_util', 'total_acc', 'initial_list_status', 'out_prncp',\n",
       "       'out_prncp_inv', 'total_pymnt', 'total_pymnt_inv', 'total_rec_prncp',\n",
       "       'total_rec_int', 'total_rec_late_fee', 'recoveries',\n",
       "       'collection_recovery_fee', 'last_pymnt_d', 'last_pymnt_amnt',\n",
       "       'next_pymnt_d', 'last_credit_pull_d', 'collections_12_mths_ex_med',\n",
       "       'policy_code', 'application_type', 'acc_now_delinq',\n",
       "       'chargeoff_within_12_mths', 'delinq_amnt', 'pub_rec_bankruptcies',\n",
       "       'tax_liens'],\n",
       "      dtype='object')"
      ]
     },
     "execution_count": 270,
     "metadata": {},
     "output_type": "execute_result"
    }
   ],
   "source": [
    "# list of remaining columns\n",
    "loan_Information_df.columns"
   ]
  },
  {
   "cell_type": "markdown",
   "metadata": {},
   "source": [
    "Removing columns which does not impact on the occurance of default"
   ]
  },
  {
   "cell_type": "code",
   "execution_count": 271,
   "metadata": {},
   "outputs": [
    {
     "data": {
      "text/plain": [
       "(39717, 20)"
      ]
     },
     "execution_count": 271,
     "metadata": {},
     "output_type": "execute_result"
    }
   ],
   "source": [
    "# Removing unwanted columns for this case study\n",
    "\n",
    "loan_Information_df = loan_Information_df.drop(['id', 'member_id', 'pymnt_plan', 'url', 'desc', 'zip_code', 'delinq_2yrs','earliest_cr_line', 'inq_last_6mths', 'mths_since_last_delinq','mths_since_last_record', 'open_acc', 'pub_rec', 'revol_bal','revol_util', 'total_acc', 'initial_list_status', 'out_prncp','out_prncp_inv', 'total_pymnt_inv', 'total_rec_prncp','total_rec_int', 'total_rec_late_fee', 'recoveries','collection_recovery_fee', 'last_pymnt_d', 'last_pymnt_amnt','next_pymnt_d', 'last_credit_pull_d', 'collections_12_mths_ex_med','policy_code', 'application_type', 'acc_now_delinq','chargeoff_within_12_mths', 'delinq_amnt', 'pub_rec_bankruptcies','tax_liens'], axis = 1)\n",
    "loan_Information_df.shape"
   ]
  },
  {
   "cell_type": "code",
   "execution_count": 272,
   "metadata": {},
   "outputs": [],
   "source": [
    "loan_Information_df1=loan_Information_df[loan_Information_df.loan_status != 'Current']"
   ]
  },
  {
   "cell_type": "code",
   "execution_count": 273,
   "metadata": {},
   "outputs": [
    {
     "data": {
      "text/plain": [
       "(38577, 20)"
      ]
     },
     "execution_count": 273,
     "metadata": {},
     "output_type": "execute_result"
    }
   ],
   "source": [
    "loan_Information_df1.shape"
   ]
  },
  {
   "cell_type": "code",
   "execution_count": 274,
   "metadata": {},
   "outputs": [
    {
     "data": {
      "text/html": [
       "<div>\n",
       "<style scoped>\n",
       "    .dataframe tbody tr th:only-of-type {\n",
       "        vertical-align: middle;\n",
       "    }\n",
       "\n",
       "    .dataframe tbody tr th {\n",
       "        vertical-align: top;\n",
       "    }\n",
       "\n",
       "    .dataframe thead th {\n",
       "        text-align: right;\n",
       "    }\n",
       "</style>\n",
       "<table border=\"1\" class=\"dataframe\">\n",
       "  <thead>\n",
       "    <tr style=\"text-align: right;\">\n",
       "      <th></th>\n",
       "      <th>loan_amnt</th>\n",
       "      <th>funded_amnt</th>\n",
       "      <th>funded_amnt_inv</th>\n",
       "      <th>term</th>\n",
       "      <th>int_rate</th>\n",
       "      <th>installment</th>\n",
       "      <th>grade</th>\n",
       "      <th>sub_grade</th>\n",
       "      <th>emp_title</th>\n",
       "      <th>emp_length</th>\n",
       "      <th>home_ownership</th>\n",
       "      <th>annual_inc</th>\n",
       "      <th>verification_status</th>\n",
       "      <th>issue_d</th>\n",
       "      <th>loan_status</th>\n",
       "      <th>purpose</th>\n",
       "      <th>title</th>\n",
       "      <th>addr_state</th>\n",
       "      <th>dti</th>\n",
       "      <th>total_pymnt</th>\n",
       "    </tr>\n",
       "  </thead>\n",
       "  <tbody>\n",
       "    <tr>\n",
       "      <th>0</th>\n",
       "      <td>5000</td>\n",
       "      <td>5000</td>\n",
       "      <td>4975.0</td>\n",
       "      <td>36 months</td>\n",
       "      <td>10.65%</td>\n",
       "      <td>162.87</td>\n",
       "      <td>B</td>\n",
       "      <td>B2</td>\n",
       "      <td>NaN</td>\n",
       "      <td>10+ years</td>\n",
       "      <td>RENT</td>\n",
       "      <td>24000.0</td>\n",
       "      <td>Verified</td>\n",
       "      <td>Dec-11</td>\n",
       "      <td>Fully Paid</td>\n",
       "      <td>credit_card</td>\n",
       "      <td>Computer</td>\n",
       "      <td>AZ</td>\n",
       "      <td>27.65</td>\n",
       "      <td>5863.155187</td>\n",
       "    </tr>\n",
       "    <tr>\n",
       "      <th>1</th>\n",
       "      <td>2500</td>\n",
       "      <td>2500</td>\n",
       "      <td>2500.0</td>\n",
       "      <td>60 months</td>\n",
       "      <td>15.27%</td>\n",
       "      <td>59.83</td>\n",
       "      <td>C</td>\n",
       "      <td>C4</td>\n",
       "      <td>Ryder</td>\n",
       "      <td>&lt; 1 year</td>\n",
       "      <td>RENT</td>\n",
       "      <td>30000.0</td>\n",
       "      <td>Source Verified</td>\n",
       "      <td>Dec-11</td>\n",
       "      <td>Charged Off</td>\n",
       "      <td>car</td>\n",
       "      <td>bike</td>\n",
       "      <td>GA</td>\n",
       "      <td>1.00</td>\n",
       "      <td>1008.710000</td>\n",
       "    </tr>\n",
       "    <tr>\n",
       "      <th>2</th>\n",
       "      <td>2400</td>\n",
       "      <td>2400</td>\n",
       "      <td>2400.0</td>\n",
       "      <td>36 months</td>\n",
       "      <td>15.96%</td>\n",
       "      <td>84.33</td>\n",
       "      <td>C</td>\n",
       "      <td>C5</td>\n",
       "      <td>NaN</td>\n",
       "      <td>10+ years</td>\n",
       "      <td>RENT</td>\n",
       "      <td>12252.0</td>\n",
       "      <td>Not Verified</td>\n",
       "      <td>Dec-11</td>\n",
       "      <td>Fully Paid</td>\n",
       "      <td>small_business</td>\n",
       "      <td>real estate business</td>\n",
       "      <td>IL</td>\n",
       "      <td>8.72</td>\n",
       "      <td>3005.666844</td>\n",
       "    </tr>\n",
       "    <tr>\n",
       "      <th>3</th>\n",
       "      <td>10000</td>\n",
       "      <td>10000</td>\n",
       "      <td>10000.0</td>\n",
       "      <td>36 months</td>\n",
       "      <td>13.49%</td>\n",
       "      <td>339.31</td>\n",
       "      <td>C</td>\n",
       "      <td>C1</td>\n",
       "      <td>AIR RESOURCES BOARD</td>\n",
       "      <td>10+ years</td>\n",
       "      <td>RENT</td>\n",
       "      <td>49200.0</td>\n",
       "      <td>Source Verified</td>\n",
       "      <td>Dec-11</td>\n",
       "      <td>Fully Paid</td>\n",
       "      <td>other</td>\n",
       "      <td>personel</td>\n",
       "      <td>CA</td>\n",
       "      <td>20.00</td>\n",
       "      <td>12231.890000</td>\n",
       "    </tr>\n",
       "    <tr>\n",
       "      <th>5</th>\n",
       "      <td>5000</td>\n",
       "      <td>5000</td>\n",
       "      <td>5000.0</td>\n",
       "      <td>36 months</td>\n",
       "      <td>7.90%</td>\n",
       "      <td>156.46</td>\n",
       "      <td>A</td>\n",
       "      <td>A4</td>\n",
       "      <td>Veolia Transportaton</td>\n",
       "      <td>3 years</td>\n",
       "      <td>RENT</td>\n",
       "      <td>36000.0</td>\n",
       "      <td>Source Verified</td>\n",
       "      <td>Dec-11</td>\n",
       "      <td>Fully Paid</td>\n",
       "      <td>wedding</td>\n",
       "      <td>My wedding loan I promise to pay back</td>\n",
       "      <td>AZ</td>\n",
       "      <td>11.20</td>\n",
       "      <td>5632.210000</td>\n",
       "    </tr>\n",
       "    <tr>\n",
       "      <th>...</th>\n",
       "      <td>...</td>\n",
       "      <td>...</td>\n",
       "      <td>...</td>\n",
       "      <td>...</td>\n",
       "      <td>...</td>\n",
       "      <td>...</td>\n",
       "      <td>...</td>\n",
       "      <td>...</td>\n",
       "      <td>...</td>\n",
       "      <td>...</td>\n",
       "      <td>...</td>\n",
       "      <td>...</td>\n",
       "      <td>...</td>\n",
       "      <td>...</td>\n",
       "      <td>...</td>\n",
       "      <td>...</td>\n",
       "      <td>...</td>\n",
       "      <td>...</td>\n",
       "      <td>...</td>\n",
       "      <td>...</td>\n",
       "    </tr>\n",
       "    <tr>\n",
       "      <th>102</th>\n",
       "      <td>6000</td>\n",
       "      <td>6000</td>\n",
       "      <td>6000.0</td>\n",
       "      <td>36 months</td>\n",
       "      <td>8.90%</td>\n",
       "      <td>190.52</td>\n",
       "      <td>A</td>\n",
       "      <td>A5</td>\n",
       "      <td>A Touch Of Italy</td>\n",
       "      <td>8 years</td>\n",
       "      <td>OWN</td>\n",
       "      <td>28800.0</td>\n",
       "      <td>Not Verified</td>\n",
       "      <td>Dec-11</td>\n",
       "      <td>Fully Paid</td>\n",
       "      <td>debt_consolidation</td>\n",
       "      <td>Debt consolidation</td>\n",
       "      <td>NJ</td>\n",
       "      <td>13.17</td>\n",
       "      <td>6858.700001</td>\n",
       "    </tr>\n",
       "    <tr>\n",
       "      <th>103</th>\n",
       "      <td>7200</td>\n",
       "      <td>7200</td>\n",
       "      <td>7200.0</td>\n",
       "      <td>36 months</td>\n",
       "      <td>9.91%</td>\n",
       "      <td>232.02</td>\n",
       "      <td>B</td>\n",
       "      <td>B1</td>\n",
       "      <td>New York Living Solutions</td>\n",
       "      <td>6 years</td>\n",
       "      <td>RENT</td>\n",
       "      <td>135000.0</td>\n",
       "      <td>Not Verified</td>\n",
       "      <td>Dec-11</td>\n",
       "      <td>Fully Paid</td>\n",
       "      <td>credit_card</td>\n",
       "      <td>Say goodbye to the rip-off banks</td>\n",
       "      <td>NY</td>\n",
       "      <td>6.12</td>\n",
       "      <td>8352.709998</td>\n",
       "    </tr>\n",
       "    <tr>\n",
       "      <th>104</th>\n",
       "      <td>9500</td>\n",
       "      <td>9500</td>\n",
       "      <td>9500.0</td>\n",
       "      <td>36 months</td>\n",
       "      <td>8.90%</td>\n",
       "      <td>301.66</td>\n",
       "      <td>A</td>\n",
       "      <td>A5</td>\n",
       "      <td>Natex Architects</td>\n",
       "      <td>7 years</td>\n",
       "      <td>MORTGAGE</td>\n",
       "      <td>50000.0</td>\n",
       "      <td>Not Verified</td>\n",
       "      <td>Dec-11</td>\n",
       "      <td>Fully Paid</td>\n",
       "      <td>credit_card</td>\n",
       "      <td>Credit Card Loan</td>\n",
       "      <td>TX</td>\n",
       "      <td>8.18</td>\n",
       "      <td>10495.821260</td>\n",
       "    </tr>\n",
       "    <tr>\n",
       "      <th>105</th>\n",
       "      <td>18825</td>\n",
       "      <td>18825</td>\n",
       "      <td>18800.0</td>\n",
       "      <td>60 months</td>\n",
       "      <td>16.77%</td>\n",
       "      <td>465.53</td>\n",
       "      <td>D</td>\n",
       "      <td>D2</td>\n",
       "      <td>Texas Health &amp; Human Services Commission</td>\n",
       "      <td>10+ years</td>\n",
       "      <td>RENT</td>\n",
       "      <td>38000.0</td>\n",
       "      <td>Verified</td>\n",
       "      <td>Dec-11</td>\n",
       "      <td>Charged Off</td>\n",
       "      <td>debt_consolidation</td>\n",
       "      <td>Coledon's Club Loan</td>\n",
       "      <td>TX</td>\n",
       "      <td>23.18</td>\n",
       "      <td>18749.250000</td>\n",
       "    </tr>\n",
       "    <tr>\n",
       "      <th>106</th>\n",
       "      <td>24000</td>\n",
       "      <td>24000</td>\n",
       "      <td>24000.0</td>\n",
       "      <td>36 months</td>\n",
       "      <td>10.65%</td>\n",
       "      <td>781.76</td>\n",
       "      <td>B</td>\n",
       "      <td>B2</td>\n",
       "      <td>City of Newport Beach</td>\n",
       "      <td>10+ years</td>\n",
       "      <td>RENT</td>\n",
       "      <td>45000.0</td>\n",
       "      <td>Verified</td>\n",
       "      <td>Dec-11</td>\n",
       "      <td>Fully Paid</td>\n",
       "      <td>debt_consolidation</td>\n",
       "      <td>Debt Consolidation Loan</td>\n",
       "      <td>CA</td>\n",
       "      <td>14.80</td>\n",
       "      <td>28143.250010</td>\n",
       "    </tr>\n",
       "  </tbody>\n",
       "</table>\n",
       "<p>100 rows × 20 columns</p>\n",
       "</div>"
      ],
      "text/plain": [
       "     loan_amnt  funded_amnt  funded_amnt_inv        term int_rate  \\\n",
       "0         5000         5000           4975.0   36 months   10.65%   \n",
       "1         2500         2500           2500.0   60 months   15.27%   \n",
       "2         2400         2400           2400.0   36 months   15.96%   \n",
       "3        10000        10000          10000.0   36 months   13.49%   \n",
       "5         5000         5000           5000.0   36 months    7.90%   \n",
       "..         ...          ...              ...         ...      ...   \n",
       "102       6000         6000           6000.0   36 months    8.90%   \n",
       "103       7200         7200           7200.0   36 months    9.91%   \n",
       "104       9500         9500           9500.0   36 months    8.90%   \n",
       "105      18825        18825          18800.0   60 months   16.77%   \n",
       "106      24000        24000          24000.0   36 months   10.65%   \n",
       "\n",
       "     installment grade sub_grade                                 emp_title  \\\n",
       "0         162.87     B        B2                                       NaN   \n",
       "1          59.83     C        C4                                     Ryder   \n",
       "2          84.33     C        C5                                       NaN   \n",
       "3         339.31     C        C1                       AIR RESOURCES BOARD   \n",
       "5         156.46     A        A4                      Veolia Transportaton   \n",
       "..           ...   ...       ...                                       ...   \n",
       "102       190.52     A        A5                          A Touch Of Italy   \n",
       "103       232.02     B        B1                 New York Living Solutions   \n",
       "104       301.66     A        A5                          Natex Architects   \n",
       "105       465.53     D        D2  Texas Health & Human Services Commission   \n",
       "106       781.76     B        B2                     City of Newport Beach   \n",
       "\n",
       "    emp_length home_ownership  annual_inc verification_status issue_d  \\\n",
       "0    10+ years           RENT     24000.0            Verified  Dec-11   \n",
       "1     < 1 year           RENT     30000.0     Source Verified  Dec-11   \n",
       "2    10+ years           RENT     12252.0        Not Verified  Dec-11   \n",
       "3    10+ years           RENT     49200.0     Source Verified  Dec-11   \n",
       "5      3 years           RENT     36000.0     Source Verified  Dec-11   \n",
       "..         ...            ...         ...                 ...     ...   \n",
       "102    8 years            OWN     28800.0        Not Verified  Dec-11   \n",
       "103    6 years           RENT    135000.0        Not Verified  Dec-11   \n",
       "104    7 years       MORTGAGE     50000.0        Not Verified  Dec-11   \n",
       "105  10+ years           RENT     38000.0            Verified  Dec-11   \n",
       "106  10+ years           RENT     45000.0            Verified  Dec-11   \n",
       "\n",
       "     loan_status             purpose                                  title  \\\n",
       "0     Fully Paid         credit_card                               Computer   \n",
       "1    Charged Off                 car                                   bike   \n",
       "2     Fully Paid      small_business                   real estate business   \n",
       "3     Fully Paid               other                               personel   \n",
       "5     Fully Paid             wedding  My wedding loan I promise to pay back   \n",
       "..           ...                 ...                                    ...   \n",
       "102   Fully Paid  debt_consolidation                     Debt consolidation   \n",
       "103   Fully Paid         credit_card       Say goodbye to the rip-off banks   \n",
       "104   Fully Paid         credit_card                       Credit Card Loan   \n",
       "105  Charged Off  debt_consolidation                    Coledon's Club Loan   \n",
       "106   Fully Paid  debt_consolidation                Debt Consolidation Loan   \n",
       "\n",
       "    addr_state    dti   total_pymnt  \n",
       "0           AZ  27.65   5863.155187  \n",
       "1           GA   1.00   1008.710000  \n",
       "2           IL   8.72   3005.666844  \n",
       "3           CA  20.00  12231.890000  \n",
       "5           AZ  11.20   5632.210000  \n",
       "..         ...    ...           ...  \n",
       "102         NJ  13.17   6858.700001  \n",
       "103         NY   6.12   8352.709998  \n",
       "104         TX   8.18  10495.821260  \n",
       "105         TX  23.18  18749.250000  \n",
       "106         CA  14.80  28143.250010  \n",
       "\n",
       "[100 rows x 20 columns]"
      ]
     },
     "execution_count": 274,
     "metadata": {},
     "output_type": "execute_result"
    }
   ],
   "source": [
    "loan_Information_df1.head(100)"
   ]
  },
  {
   "cell_type": "code",
   "execution_count": 275,
   "metadata": {
    "scrolled": true
   },
   "outputs": [
    {
     "name": "stderr",
     "output_type": "stream",
     "text": [
      "C:\\Users\\Mrunmayee Dixit\\AppData\\Local\\Temp\\ipykernel_25440\\221586810.py:1: SettingWithCopyWarning: \n",
      "A value is trying to be set on a copy of a slice from a DataFrame.\n",
      "Try using .loc[row_indexer,col_indexer] = value instead\n",
      "\n",
      "See the caveats in the documentation: https://pandas.pydata.org/pandas-docs/stable/user_guide/indexing.html#returning-a-view-versus-a-copy\n",
      "  loan_Information_df1['emp_length'] =loan_Information_df1['emp_length'].replace('10+ years', '10', regex=True)\n",
      "C:\\Users\\Mrunmayee Dixit\\AppData\\Local\\Temp\\ipykernel_25440\\221586810.py:2: SettingWithCopyWarning: \n",
      "A value is trying to be set on a copy of a slice from a DataFrame.\n",
      "Try using .loc[row_indexer,col_indexer] = value instead\n",
      "\n",
      "See the caveats in the documentation: https://pandas.pydata.org/pandas-docs/stable/user_guide/indexing.html#returning-a-view-versus-a-copy\n",
      "  loan_Information_df1['emp_length'] =loan_Information_df1['emp_length'].replace(' years', '', regex=True)\n",
      "C:\\Users\\Mrunmayee Dixit\\AppData\\Local\\Temp\\ipykernel_25440\\221586810.py:3: SettingWithCopyWarning: \n",
      "A value is trying to be set on a copy of a slice from a DataFrame.\n",
      "Try using .loc[row_indexer,col_indexer] = value instead\n",
      "\n",
      "See the caveats in the documentation: https://pandas.pydata.org/pandas-docs/stable/user_guide/indexing.html#returning-a-view-versus-a-copy\n",
      "  loan_Information_df1['emp_length'] =loan_Information_df1['emp_length'].replace(' year', '', regex=True)\n",
      "C:\\Users\\Mrunmayee Dixit\\AppData\\Local\\Temp\\ipykernel_25440\\221586810.py:4: SettingWithCopyWarning: \n",
      "A value is trying to be set on a copy of a slice from a DataFrame.\n",
      "Try using .loc[row_indexer,col_indexer] = value instead\n",
      "\n",
      "See the caveats in the documentation: https://pandas.pydata.org/pandas-docs/stable/user_guide/indexing.html#returning-a-view-versus-a-copy\n",
      "  loan_Information_df1['emp_length'] =loan_Information_df1['emp_length'].replace('< 1', '0', regex=True)\n",
      "C:\\Users\\Mrunmayee Dixit\\AppData\\Local\\Temp\\ipykernel_25440\\221586810.py:5: SettingWithCopyWarning: \n",
      "A value is trying to be set on a copy of a slice from a DataFrame.\n",
      "Try using .loc[row_indexer,col_indexer] = value instead\n",
      "\n",
      "See the caveats in the documentation: https://pandas.pydata.org/pandas-docs/stable/user_guide/indexing.html#returning-a-view-versus-a-copy\n",
      "  loan_Information_df1['emp_length'] =loan_Information_df1['emp_length'].replace(' ', '', regex=True)\n",
      "C:\\Users\\Mrunmayee Dixit\\AppData\\Local\\Temp\\ipykernel_25440\\221586810.py:6: SettingWithCopyWarning: \n",
      "A value is trying to be set on a copy of a slice from a DataFrame.\n",
      "Try using .loc[row_indexer,col_indexer] = value instead\n",
      "\n",
      "See the caveats in the documentation: https://pandas.pydata.org/pandas-docs/stable/user_guide/indexing.html#returning-a-view-versus-a-copy\n",
      "  loan_Information_df1['emp_length'] =loan_Information_df1['emp_length'].str.replace('+', '', regex=True)\n",
      "C:\\Users\\Mrunmayee Dixit\\AppData\\Local\\Temp\\ipykernel_25440\\221586810.py:8: SettingWithCopyWarning: \n",
      "A value is trying to be set on a copy of a slice from a DataFrame.\n",
      "Try using .loc[row_indexer,col_indexer] = value instead\n",
      "\n",
      "See the caveats in the documentation: https://pandas.pydata.org/pandas-docs/stable/user_guide/indexing.html#returning-a-view-versus-a-copy\n",
      "  loan_Information_df1['term'] =loan_Information_df1['term'].replace(' months', '', regex=True)\n",
      "C:\\Users\\Mrunmayee Dixit\\AppData\\Local\\Temp\\ipykernel_25440\\221586810.py:10: SettingWithCopyWarning: \n",
      "A value is trying to be set on a copy of a slice from a DataFrame.\n",
      "Try using .loc[row_indexer,col_indexer] = value instead\n",
      "\n",
      "See the caveats in the documentation: https://pandas.pydata.org/pandas-docs/stable/user_guide/indexing.html#returning-a-view-versus-a-copy\n",
      "  loan_Information_df1['int_rate'] =loan_Information_df1['int_rate'].replace('%', '', regex=True)\n"
     ]
    },
    {
     "data": {
      "text/html": [
       "<div>\n",
       "<style scoped>\n",
       "    .dataframe tbody tr th:only-of-type {\n",
       "        vertical-align: middle;\n",
       "    }\n",
       "\n",
       "    .dataframe tbody tr th {\n",
       "        vertical-align: top;\n",
       "    }\n",
       "\n",
       "    .dataframe thead th {\n",
       "        text-align: right;\n",
       "    }\n",
       "</style>\n",
       "<table border=\"1\" class=\"dataframe\">\n",
       "  <thead>\n",
       "    <tr style=\"text-align: right;\">\n",
       "      <th></th>\n",
       "      <th>loan_amnt</th>\n",
       "      <th>funded_amnt</th>\n",
       "      <th>funded_amnt_inv</th>\n",
       "      <th>term</th>\n",
       "      <th>int_rate</th>\n",
       "      <th>installment</th>\n",
       "      <th>grade</th>\n",
       "      <th>sub_grade</th>\n",
       "      <th>emp_title</th>\n",
       "      <th>emp_length</th>\n",
       "      <th>home_ownership</th>\n",
       "      <th>annual_inc</th>\n",
       "      <th>verification_status</th>\n",
       "      <th>issue_d</th>\n",
       "      <th>loan_status</th>\n",
       "      <th>purpose</th>\n",
       "      <th>title</th>\n",
       "      <th>addr_state</th>\n",
       "      <th>dti</th>\n",
       "      <th>total_pymnt</th>\n",
       "    </tr>\n",
       "  </thead>\n",
       "  <tbody>\n",
       "    <tr>\n",
       "      <th>0</th>\n",
       "      <td>5000</td>\n",
       "      <td>5000</td>\n",
       "      <td>4975.0</td>\n",
       "      <td>36</td>\n",
       "      <td>10.65</td>\n",
       "      <td>162.87</td>\n",
       "      <td>B</td>\n",
       "      <td>B2</td>\n",
       "      <td>NaN</td>\n",
       "      <td>10</td>\n",
       "      <td>RENT</td>\n",
       "      <td>24000.0</td>\n",
       "      <td>Verified</td>\n",
       "      <td>Dec-11</td>\n",
       "      <td>Fully Paid</td>\n",
       "      <td>credit_card</td>\n",
       "      <td>Computer</td>\n",
       "      <td>AZ</td>\n",
       "      <td>27.65</td>\n",
       "      <td>5863.155187</td>\n",
       "    </tr>\n",
       "    <tr>\n",
       "      <th>1</th>\n",
       "      <td>2500</td>\n",
       "      <td>2500</td>\n",
       "      <td>2500.0</td>\n",
       "      <td>60</td>\n",
       "      <td>15.27</td>\n",
       "      <td>59.83</td>\n",
       "      <td>C</td>\n",
       "      <td>C4</td>\n",
       "      <td>Ryder</td>\n",
       "      <td>0</td>\n",
       "      <td>RENT</td>\n",
       "      <td>30000.0</td>\n",
       "      <td>Source Verified</td>\n",
       "      <td>Dec-11</td>\n",
       "      <td>Charged Off</td>\n",
       "      <td>car</td>\n",
       "      <td>bike</td>\n",
       "      <td>GA</td>\n",
       "      <td>1.00</td>\n",
       "      <td>1008.710000</td>\n",
       "    </tr>\n",
       "    <tr>\n",
       "      <th>2</th>\n",
       "      <td>2400</td>\n",
       "      <td>2400</td>\n",
       "      <td>2400.0</td>\n",
       "      <td>36</td>\n",
       "      <td>15.96</td>\n",
       "      <td>84.33</td>\n",
       "      <td>C</td>\n",
       "      <td>C5</td>\n",
       "      <td>NaN</td>\n",
       "      <td>10</td>\n",
       "      <td>RENT</td>\n",
       "      <td>12252.0</td>\n",
       "      <td>Not Verified</td>\n",
       "      <td>Dec-11</td>\n",
       "      <td>Fully Paid</td>\n",
       "      <td>small_business</td>\n",
       "      <td>real estate business</td>\n",
       "      <td>IL</td>\n",
       "      <td>8.72</td>\n",
       "      <td>3005.666844</td>\n",
       "    </tr>\n",
       "    <tr>\n",
       "      <th>3</th>\n",
       "      <td>10000</td>\n",
       "      <td>10000</td>\n",
       "      <td>10000.0</td>\n",
       "      <td>36</td>\n",
       "      <td>13.49</td>\n",
       "      <td>339.31</td>\n",
       "      <td>C</td>\n",
       "      <td>C1</td>\n",
       "      <td>AIR RESOURCES BOARD</td>\n",
       "      <td>10</td>\n",
       "      <td>RENT</td>\n",
       "      <td>49200.0</td>\n",
       "      <td>Source Verified</td>\n",
       "      <td>Dec-11</td>\n",
       "      <td>Fully Paid</td>\n",
       "      <td>other</td>\n",
       "      <td>personel</td>\n",
       "      <td>CA</td>\n",
       "      <td>20.00</td>\n",
       "      <td>12231.890000</td>\n",
       "    </tr>\n",
       "    <tr>\n",
       "      <th>5</th>\n",
       "      <td>5000</td>\n",
       "      <td>5000</td>\n",
       "      <td>5000.0</td>\n",
       "      <td>36</td>\n",
       "      <td>7.90</td>\n",
       "      <td>156.46</td>\n",
       "      <td>A</td>\n",
       "      <td>A4</td>\n",
       "      <td>Veolia Transportaton</td>\n",
       "      <td>3</td>\n",
       "      <td>RENT</td>\n",
       "      <td>36000.0</td>\n",
       "      <td>Source Verified</td>\n",
       "      <td>Dec-11</td>\n",
       "      <td>Fully Paid</td>\n",
       "      <td>wedding</td>\n",
       "      <td>My wedding loan I promise to pay back</td>\n",
       "      <td>AZ</td>\n",
       "      <td>11.20</td>\n",
       "      <td>5632.210000</td>\n",
       "    </tr>\n",
       "    <tr>\n",
       "      <th>...</th>\n",
       "      <td>...</td>\n",
       "      <td>...</td>\n",
       "      <td>...</td>\n",
       "      <td>...</td>\n",
       "      <td>...</td>\n",
       "      <td>...</td>\n",
       "      <td>...</td>\n",
       "      <td>...</td>\n",
       "      <td>...</td>\n",
       "      <td>...</td>\n",
       "      <td>...</td>\n",
       "      <td>...</td>\n",
       "      <td>...</td>\n",
       "      <td>...</td>\n",
       "      <td>...</td>\n",
       "      <td>...</td>\n",
       "      <td>...</td>\n",
       "      <td>...</td>\n",
       "      <td>...</td>\n",
       "      <td>...</td>\n",
       "    </tr>\n",
       "    <tr>\n",
       "      <th>102</th>\n",
       "      <td>6000</td>\n",
       "      <td>6000</td>\n",
       "      <td>6000.0</td>\n",
       "      <td>36</td>\n",
       "      <td>8.90</td>\n",
       "      <td>190.52</td>\n",
       "      <td>A</td>\n",
       "      <td>A5</td>\n",
       "      <td>A Touch Of Italy</td>\n",
       "      <td>8</td>\n",
       "      <td>OWN</td>\n",
       "      <td>28800.0</td>\n",
       "      <td>Not Verified</td>\n",
       "      <td>Dec-11</td>\n",
       "      <td>Fully Paid</td>\n",
       "      <td>debt_consolidation</td>\n",
       "      <td>Debt consolidation</td>\n",
       "      <td>NJ</td>\n",
       "      <td>13.17</td>\n",
       "      <td>6858.700001</td>\n",
       "    </tr>\n",
       "    <tr>\n",
       "      <th>103</th>\n",
       "      <td>7200</td>\n",
       "      <td>7200</td>\n",
       "      <td>7200.0</td>\n",
       "      <td>36</td>\n",
       "      <td>9.91</td>\n",
       "      <td>232.02</td>\n",
       "      <td>B</td>\n",
       "      <td>B1</td>\n",
       "      <td>New York Living Solutions</td>\n",
       "      <td>6</td>\n",
       "      <td>RENT</td>\n",
       "      <td>135000.0</td>\n",
       "      <td>Not Verified</td>\n",
       "      <td>Dec-11</td>\n",
       "      <td>Fully Paid</td>\n",
       "      <td>credit_card</td>\n",
       "      <td>Say goodbye to the rip-off banks</td>\n",
       "      <td>NY</td>\n",
       "      <td>6.12</td>\n",
       "      <td>8352.709998</td>\n",
       "    </tr>\n",
       "    <tr>\n",
       "      <th>104</th>\n",
       "      <td>9500</td>\n",
       "      <td>9500</td>\n",
       "      <td>9500.0</td>\n",
       "      <td>36</td>\n",
       "      <td>8.90</td>\n",
       "      <td>301.66</td>\n",
       "      <td>A</td>\n",
       "      <td>A5</td>\n",
       "      <td>Natex Architects</td>\n",
       "      <td>7</td>\n",
       "      <td>MORTGAGE</td>\n",
       "      <td>50000.0</td>\n",
       "      <td>Not Verified</td>\n",
       "      <td>Dec-11</td>\n",
       "      <td>Fully Paid</td>\n",
       "      <td>credit_card</td>\n",
       "      <td>Credit Card Loan</td>\n",
       "      <td>TX</td>\n",
       "      <td>8.18</td>\n",
       "      <td>10495.821260</td>\n",
       "    </tr>\n",
       "    <tr>\n",
       "      <th>105</th>\n",
       "      <td>18825</td>\n",
       "      <td>18825</td>\n",
       "      <td>18800.0</td>\n",
       "      <td>60</td>\n",
       "      <td>16.77</td>\n",
       "      <td>465.53</td>\n",
       "      <td>D</td>\n",
       "      <td>D2</td>\n",
       "      <td>Texas Health &amp; Human Services Commission</td>\n",
       "      <td>10</td>\n",
       "      <td>RENT</td>\n",
       "      <td>38000.0</td>\n",
       "      <td>Verified</td>\n",
       "      <td>Dec-11</td>\n",
       "      <td>Charged Off</td>\n",
       "      <td>debt_consolidation</td>\n",
       "      <td>Coledon's Club Loan</td>\n",
       "      <td>TX</td>\n",
       "      <td>23.18</td>\n",
       "      <td>18749.250000</td>\n",
       "    </tr>\n",
       "    <tr>\n",
       "      <th>106</th>\n",
       "      <td>24000</td>\n",
       "      <td>24000</td>\n",
       "      <td>24000.0</td>\n",
       "      <td>36</td>\n",
       "      <td>10.65</td>\n",
       "      <td>781.76</td>\n",
       "      <td>B</td>\n",
       "      <td>B2</td>\n",
       "      <td>City of Newport Beach</td>\n",
       "      <td>10</td>\n",
       "      <td>RENT</td>\n",
       "      <td>45000.0</td>\n",
       "      <td>Verified</td>\n",
       "      <td>Dec-11</td>\n",
       "      <td>Fully Paid</td>\n",
       "      <td>debt_consolidation</td>\n",
       "      <td>Debt Consolidation Loan</td>\n",
       "      <td>CA</td>\n",
       "      <td>14.80</td>\n",
       "      <td>28143.250010</td>\n",
       "    </tr>\n",
       "  </tbody>\n",
       "</table>\n",
       "<p>100 rows × 20 columns</p>\n",
       "</div>"
      ],
      "text/plain": [
       "     loan_amnt  funded_amnt  funded_amnt_inv term int_rate  installment grade  \\\n",
       "0         5000         5000           4975.0   36    10.65       162.87     B   \n",
       "1         2500         2500           2500.0   60    15.27        59.83     C   \n",
       "2         2400         2400           2400.0   36    15.96        84.33     C   \n",
       "3        10000        10000          10000.0   36    13.49       339.31     C   \n",
       "5         5000         5000           5000.0   36     7.90       156.46     A   \n",
       "..         ...          ...              ...  ...      ...          ...   ...   \n",
       "102       6000         6000           6000.0   36     8.90       190.52     A   \n",
       "103       7200         7200           7200.0   36     9.91       232.02     B   \n",
       "104       9500         9500           9500.0   36     8.90       301.66     A   \n",
       "105      18825        18825          18800.0   60    16.77       465.53     D   \n",
       "106      24000        24000          24000.0   36    10.65       781.76     B   \n",
       "\n",
       "    sub_grade                                 emp_title emp_length  \\\n",
       "0          B2                                       NaN         10   \n",
       "1          C4                                     Ryder          0   \n",
       "2          C5                                       NaN         10   \n",
       "3          C1                       AIR RESOURCES BOARD         10   \n",
       "5          A4                      Veolia Transportaton          3   \n",
       "..        ...                                       ...        ...   \n",
       "102        A5                          A Touch Of Italy          8   \n",
       "103        B1                 New York Living Solutions          6   \n",
       "104        A5                          Natex Architects          7   \n",
       "105        D2  Texas Health & Human Services Commission         10   \n",
       "106        B2                     City of Newport Beach         10   \n",
       "\n",
       "    home_ownership  annual_inc verification_status issue_d  loan_status  \\\n",
       "0             RENT     24000.0            Verified  Dec-11   Fully Paid   \n",
       "1             RENT     30000.0     Source Verified  Dec-11  Charged Off   \n",
       "2             RENT     12252.0        Not Verified  Dec-11   Fully Paid   \n",
       "3             RENT     49200.0     Source Verified  Dec-11   Fully Paid   \n",
       "5             RENT     36000.0     Source Verified  Dec-11   Fully Paid   \n",
       "..             ...         ...                 ...     ...          ...   \n",
       "102            OWN     28800.0        Not Verified  Dec-11   Fully Paid   \n",
       "103           RENT    135000.0        Not Verified  Dec-11   Fully Paid   \n",
       "104       MORTGAGE     50000.0        Not Verified  Dec-11   Fully Paid   \n",
       "105           RENT     38000.0            Verified  Dec-11  Charged Off   \n",
       "106           RENT     45000.0            Verified  Dec-11   Fully Paid   \n",
       "\n",
       "                purpose                                  title addr_state  \\\n",
       "0           credit_card                               Computer         AZ   \n",
       "1                   car                                   bike         GA   \n",
       "2        small_business                   real estate business         IL   \n",
       "3                 other                               personel         CA   \n",
       "5               wedding  My wedding loan I promise to pay back         AZ   \n",
       "..                  ...                                    ...        ...   \n",
       "102  debt_consolidation                     Debt consolidation         NJ   \n",
       "103         credit_card       Say goodbye to the rip-off banks         NY   \n",
       "104         credit_card                       Credit Card Loan         TX   \n",
       "105  debt_consolidation                    Coledon's Club Loan         TX   \n",
       "106  debt_consolidation                Debt Consolidation Loan         CA   \n",
       "\n",
       "       dti   total_pymnt  \n",
       "0    27.65   5863.155187  \n",
       "1     1.00   1008.710000  \n",
       "2     8.72   3005.666844  \n",
       "3    20.00  12231.890000  \n",
       "5    11.20   5632.210000  \n",
       "..     ...           ...  \n",
       "102  13.17   6858.700001  \n",
       "103   6.12   8352.709998  \n",
       "104   8.18  10495.821260  \n",
       "105  23.18  18749.250000  \n",
       "106  14.80  28143.250010  \n",
       "\n",
       "[100 rows x 20 columns]"
      ]
     },
     "execution_count": 275,
     "metadata": {},
     "output_type": "execute_result"
    }
   ],
   "source": [
    "loan_Information_df1['emp_length'] =loan_Information_df1['emp_length'].replace('10+ years', '10', regex=True)\n",
    "loan_Information_df1['emp_length'] =loan_Information_df1['emp_length'].replace(' years', '', regex=True)\n",
    "loan_Information_df1['emp_length'] =loan_Information_df1['emp_length'].replace(' year', '', regex=True)\n",
    "loan_Information_df1['emp_length'] =loan_Information_df1['emp_length'].replace('< 1', '0', regex=True)\n",
    "loan_Information_df1['emp_length'] =loan_Information_df1['emp_length'].replace(' ', '', regex=True)\n",
    "loan_Information_df1['emp_length'] =loan_Information_df1['emp_length'].str.replace('+', '', regex=True)\n",
    "\n",
    "loan_Information_df1['term'] =loan_Information_df1['term'].replace(' months', '', regex=True)\n",
    "\n",
    "loan_Information_df1['int_rate'] =loan_Information_df1['int_rate'].replace('%', '', regex=True)\n",
    "\n",
    "\n",
    "loan_Information_df1.head(100)\n"
   ]
  },
  {
   "cell_type": "code",
   "execution_count": 276,
   "metadata": {},
   "outputs": [],
   "source": [
    "#delete the rows with null values for emp_length\n",
    "loan_Information_df1 = loan_Information_df1.drop(loan_Information_df1[loan_Information_df1.emp_length.isna()].index)"
   ]
  },
  {
   "cell_type": "code",
   "execution_count": 278,
   "metadata": {},
   "outputs": [],
   "source": [
    "#change the type of column to int\n",
    "loan_Information_df1[\"emp_length\"] = loan_Information_df1[\"emp_length\"].astype(int)\n",
    "loan_Information_df1[\"int_rate\"] = loan_Information_df1[\"int_rate\"].astype(float)"
   ]
  },
  {
   "cell_type": "code",
   "execution_count": 279,
   "metadata": {},
   "outputs": [
    {
     "name": "stdout",
     "output_type": "stream",
     "text": [
      "int32\n",
      "float64\n"
     ]
    }
   ],
   "source": [
    "print(loan_Information_df1.emp_length.dtype)\n",
    "print(loan_Information_df1.int_rate.dtype)"
   ]
  },
  {
   "cell_type": "markdown",
   "metadata": {},
   "source": [
    "### Univariate Analysis"
   ]
  },
  {
   "cell_type": "code",
   "execution_count": 280,
   "metadata": {},
   "outputs": [
    {
     "data": {
      "image/png": "[encoded data removed]",
      "text/plain": [
       "<Figure size 432x288 with 1 Axes>"
      ]
     },
     "metadata": {
      "needs_background": "light"
     },
     "output_type": "display_data"
    }
   ],
   "source": [
    "# defaulters distrubution over given dataset\n",
    "sbn.countplot(x= loan_Information_df1[\"loan_status\"])\n",
    "plt.show()"
   ]
  },
  {
   "cell_type": "code",
   "execution_count": 281,
   "metadata": {},
   "outputs": [
    {
     "data": {
      "text/plain": [
       "14"
      ]
     },
     "execution_count": 281,
     "metadata": {},
     "output_type": "execute_result"
    }
   ],
   "source": [
    "ChangedOfflength = len(loan_Information_df1[loan_Information_df1['loan_status']=='Charged Off'])\n",
    "total_length = len(loan_Information_df1)\n",
    "defaulterPercentage = int(ChangedOfflength)*100/int(total_length)\n",
    "round(defaulterPercentage)"
   ]
  },
  {
   "cell_type": "markdown",
   "metadata": {},
   "source": [
    "#### Observation\n",
    "\n",
    "From above 'loan_status' plot we understand that there are around 14% of defaulters"
   ]
  },
  {
   "cell_type": "code",
   "execution_count": 282,
   "metadata": {},
   "outputs": [
    {
     "data": {
      "text/plain": [
       "<seaborn.axisgrid.FacetGrid at 0x121e9b2fe50>"
      ]
     },
     "execution_count": 282,
     "metadata": {},
     "output_type": "execute_result"
    },
    {
     "data": {
      "image/png": "[encoded data removed]",
      "text/plain": [
       "<Figure size 360x360 with 1 Axes>"
      ]
     },
     "metadata": {
      "needs_background": "light"
     },
     "output_type": "display_data"
    }
   ],
   "source": [
    "# check which range of experience people take more loan\n",
    "sbn.displot(loan_Information_df1[\"emp_length\"])"
   ]
  },
  {
   "cell_type": "code",
   "execution_count": 283,
   "metadata": {},
   "outputs": [
    {
     "data": {
      "text/plain": [
       "26"
      ]
     },
     "execution_count": 283,
     "metadata": {},
     "output_type": "execute_result"
    }
   ],
   "source": [
    "total_emp_length = len(loan_Information_df1)\n",
    "aboveTenSize = len(loan_Information_df1[loan_Information_df1.emp_length > 8])\n",
    "loanAfterTenYearsOfExperience = aboveTenSize*100/total_emp_length\n",
    "round(loanAfterTenYearsOfExperience)"
   ]
  },
  {
   "cell_type": "markdown",
   "metadata": {},
   "source": [
    "#### Observation \n",
    "\n",
    "From above plot its clear that more number of loans are taken by people with around 10 years of experience i.e. around 26% of applicants are with around 10 years of experience"
   ]
  },
  {
   "cell_type": "code",
   "execution_count": 284,
   "metadata": {},
   "outputs": [
    {
     "data": {
      "text/plain": [
       "<seaborn.axisgrid.FacetGrid at 0x121e9546eb0>"
      ]
     },
     "execution_count": 284,
     "metadata": {},
     "output_type": "execute_result"
    },
    {
     "data": {
      "image/png": "[encoded data removed]",
      "text/plain": [
       "<Figure size 360x360 with 1 Axes>"
      ]
     },
     "metadata": {
      "needs_background": "light"
     },
     "output_type": "display_data"
    }
   ],
   "source": [
    "# The term for which generally loans are taken\n",
    "sbn.displot(loan_Information_df1[\"term\"])"
   ]
  },
  {
   "cell_type": "code",
   "execution_count": 285,
   "metadata": {},
   "outputs": [
    {
     "data": {
      "text/plain": [
       "75"
      ]
     },
     "execution_count": 285,
     "metadata": {},
     "output_type": "execute_result"
    }
   ],
   "source": [
    "term_total = len(loan_Information_df1)\n",
    "duration = len(loan_Information_df1[loan_Information_df1[\"term\"]==\" 36\"])\n",
    "percentageOfterm = duration*100/term_total\n",
    "round(percentageOfterm)"
   ]
  },
  {
   "cell_type": "markdown",
   "metadata": {},
   "source": [
    "#### Observation\n",
    "\n",
    "More number of people prefer to thake the loan for 35 months rather than 60 months i.e. for shorter duration."
   ]
  },
  {
   "cell_type": "code",
   "execution_count": 286,
   "metadata": {},
   "outputs": [
    {
     "data": {
      "image/png": "[encoded data removed]",
      "text/plain": [
       "<Figure size 432x288 with 1 Axes>"
      ]
     },
     "metadata": {
      "needs_background": "light"
     },
     "output_type": "display_data"
    }
   ],
   "source": [
    "# loan amount reprenation\n",
    "sbn.boxplot( y=loan_Information_df1[\"loan_amnt\"] )\n",
    "plt.show()"
   ]
  },
  {
   "cell_type": "code",
   "execution_count": 288,
   "metadata": {},
   "outputs": [
    {
     "data": {
      "text/plain": [
       "<seaborn.axisgrid.FacetGrid at 0x121f0242e80>"
      ]
     },
     "execution_count": 288,
     "metadata": {},
     "output_type": "execute_result"
    },
    {
     "data": {
      "image/png": "[encoded data removed]",
      "text/plain": [
       "<Figure size 360x360 with 1 Axes>"
      ]
     },
     "metadata": {
      "needs_background": "light"
     },
     "output_type": "display_data"
    }
   ],
   "source": [
    "# The reasons for which loan is taken\n",
    "\n",
    "sbn.displot(y=loan_Information_df1[\"purpose\"])\n"
   ]
  },
  {
   "cell_type": "markdown",
   "metadata": {},
   "source": [
    "#### Observation \n",
    "Maximum number of people take loan for dept_consolidation."
   ]
  },
  {
   "cell_type": "code",
   "execution_count": 289,
   "metadata": {},
   "outputs": [
    {
     "data": {
      "text/plain": [
       "<seaborn.axisgrid.FacetGrid at 0x121ecbd7e20>"
      ]
     },
     "execution_count": 289,
     "metadata": {},
     "output_type": "execute_result"
    },
    {
     "data": {
      "image/png": "[encoded data removed]",
      "text/plain": [
       "<Figure size 360x360 with 1 Axes>"
      ]
     },
     "metadata": {
      "needs_background": "light"
     },
     "output_type": "display_data"
    }
   ],
   "source": [
    "# How many applicants are verified\n",
    "sbn.displot(loan_Information_df1[\"verification_status\"])"
   ]
  },
  {
   "cell_type": "code",
   "execution_count": 290,
   "metadata": {},
   "outputs": [
    {
     "name": "stdout",
     "output_type": "stream",
     "text": [
      "43\n",
      "25\n"
     ]
    }
   ],
   "source": [
    "nonVerifiedApplicants = len(loan_Information_df1[loan_Information_df1.verification_status=='Not Verified'])*100/len(loan_Information_df1)\n",
    "print(round(nonVerifiedApplicants))\n",
    "sourceVerifiedApplicants = len(loan_Information_df1[loan_Information_df1.verification_status=='Source Verified'])*100/len(loan_Information_df1)\n",
    "print(round(sourceVerifiedApplicants))"
   ]
  },
  {
   "cell_type": "markdown",
   "metadata": {},
   "source": [
    "#### Observation\n",
    "1. Approfimately 43% of total loan applicants are not verified. \n",
    "2. Only 25% loan applicants are source verified."
   ]
  },
  {
   "cell_type": "code",
   "execution_count": null,
   "metadata": {},
   "outputs": [],
   "source": []
  },
  {
   "cell_type": "code",
   "execution_count": null,
   "metadata": {},
   "outputs": [],
   "source": []
  },
  {
   "cell_type": "markdown",
   "metadata": {},
   "source": [
    "### Bivariate Analysis"
   ]
  },
  {
   "cell_type": "code",
   "execution_count": 164,
   "metadata": {},
   "outputs": [
    {
     "data": {
      "image/png": "[encoded data removed]",
      "text/plain": [
       "<Figure size 456.375x360 with 1 Axes>"
      ]
     },
     "metadata": {
      "needs_background": "light"
     },
     "output_type": "display_data"
    }
   ],
   "source": [
    "# Try to find relation between employee experience length and defaulters\n",
    "sbn.displot(loan_Information_df1, x=loan_Information_df1[\"emp_length\"], hue=loan_Information_df1[\"loan_status\"],  multiple=\"dodge\")\n",
    "plt.show()"
   ]
  },
  {
   "cell_type": "code",
   "execution_count": null,
   "metadata": {},
   "outputs": [],
   "source": []
  },
  {
   "cell_type": "code",
   "execution_count": 207,
   "metadata": {},
   "outputs": [
    {
     "data": {
      "image/png": "[encoded data removed]",
      "text/plain": [
       "<Figure size 456.375x360 with 1 Axes>"
      ]
     },
     "metadata": {
      "needs_background": "light"
     },
     "output_type": "display_data"
    }
   ],
   "source": [
    "# Find the corellation between term of loan and percentage of defaulters\n",
    "sbn.displot(loan_Information_df1, x=loan_Information_df1[\"term\"], hue=loan_Information_df1[\"loan_status\"],  multiple=\"dodge\")\n",
    "plt.show()"
   ]
  },
  {
   "cell_type": "code",
   "execution_count": 219,
   "metadata": {},
   "outputs": [
    {
     "name": "stdout",
     "output_type": "stream",
     "text": [
      "25.126930971156963\n",
      "10.863647611977234\n"
     ]
    }
   ],
   "source": [
    "ChargeOffFor60MonthDurationPercentage =len(loan_Information_df1[(loan_Information_df1.term==' 60') & (loan_Information_df1.loan_status=='Charged Off')])*100/(len(loan_Information_df1[loan_Information_df1.term==' 60']))\n",
    "\n",
    "print(ChargeOffFor60MonthDurationPercentage)\n",
    "\n",
    "ChargeOffFor36MonthDurationPercentage = len(loan_Information_df1[(loan_Information_df1.term==' 36') & (loan_Information_df1.loan_status=='Charged Off')])*100/(len(loan_Information_df1[loan_Information_df1.term==' 36']))\n",
    "\n",
    "print(ChargeOffFor36MonthDurationPercentage)"
   ]
  },
  {
   "attachments": {},
   "cell_type": "markdown",
   "metadata": {},
   "source": [
    "#### Observation \n",
    "Loan Applicants who have taken loan for longer duration are tent to become defaulters as compared to short term loan applicants. "
   ]
  },
  {
   "cell_type": "code",
   "execution_count": 208,
   "metadata": {},
   "outputs": [
    {
     "data": {
      "image/png": "[encoded data removed]",
      "text/plain": [
       "<Figure size 456.375x360 with 1 Axes>"
      ]
     },
     "metadata": {
      "needs_background": "light"
     },
     "output_type": "display_data"
    }
   ],
   "source": [
    "#Check how does home_ownershit affect the on account of defaulets\n",
    "sbn.displot(loan_Information_df1, x=loan_Information_df1[\"home_ownership\"], hue=loan_Information_df1[\"loan_status\"],  multiple=\"dodge\")\n",
    "plt.show()"
   ]
  },
  {
   "cell_type": "code",
   "execution_count": 253,
   "metadata": {},
   "outputs": [
    {
     "name": "stdout",
     "output_type": "stream",
     "text": [
      "7.287449392712551\n",
      "1.0654165778819518\n",
      "5.979650543362455\n"
     ]
    }
   ],
   "source": [
    "rentedPercentateOfDefaulters = len(loan_Information_df1[(loan_Information_df1.home_ownership=='RENT') & (loan_Information_df1.loan_status=='Charged Off')])*100/(len(loan_Information_df1.home_ownership=='RENT'))\n",
    "print(rentedPercentateOfDefaulters)                                                 \n",
    "\n",
    "OwnPercentateOfDefaulters = len(loan_Information_df1[(loan_Information_df1.home_ownership=='OWN') & (loan_Information_df1.loan_status=='Charged Off')])*100/(len(loan_Information_df1.home_ownership=='OWN'))\n",
    "print(OwnPercentateOfDefaulters)\n",
    "                                                     \n",
    "MortgagePercentateOfDefaulters = len(loan_Information_df1[(loan_Information_df1.home_ownership=='MORTGAGE') & (loan_Information_df1.loan_status=='Charged Off')])*100/(len(loan_Information_df1.home_ownership=='MORTGAGE'))\n",
    "print(MortgagePercentateOfDefaulters)"
   ]
  },
  {
   "cell_type": "markdown",
   "metadata": {},
   "source": [
    "#### Observation \n",
    "\n",
    "Loan applicants are tend to default when they have rent the stay or they have taken loan for stay or property."
   ]
  },
  {
   "cell_type": "code",
   "execution_count": 216,
   "metadata": {},
   "outputs": [
    {
     "data": {
      "image/png": "[encoded data removed]",
      "text/plain": [
       "<Figure size 432x288 with 1 Axes>"
      ]
     },
     "metadata": {
      "needs_background": "light"
     },
     "output_type": "display_data"
    }
   ],
   "source": [
    "# Comaring loan amount with people owing there own place to stay\n",
    "sbn.boxplot( y=loan_Information_df1[\"loan_amnt\"], x= loan_Information_df1[\"home_ownership\"])\n",
    "plt.show()"
   ]
  },
  {
   "cell_type": "markdown",
   "metadata": {},
   "source": [
    "#### Observation \n",
    "\n",
    "Application for loan have taken high amount loans when they already have loan for there home"
   ]
  },
  {
   "cell_type": "code",
   "execution_count": 221,
   "metadata": {},
   "outputs": [
    {
     "data": {
      "image/png": "[encoded data removed]",
      "text/plain": [
       "<Figure size 432x288 with 1 Axes>"
      ]
     },
     "metadata": {
      "needs_background": "light"
     },
     "output_type": "display_data"
    }
   ],
   "source": [
    "# Comparing loan amountamount paid with loan status\n",
    "sbn.boxplot( y=loan_Information_df1[\"total_pymnt\"], x= loan_Information_df1[\"loan_status\"])\n",
    "plt.show()"
   ]
  },
  {
   "cell_type": "code",
   "execution_count": 222,
   "metadata": {},
   "outputs": [
    {
     "data": {
      "image/png": "[encoded data removed]",
      "text/plain": [
       "<Figure size 432x288 with 1 Axes>"
      ]
     },
     "metadata": {
      "needs_background": "light"
     },
     "output_type": "display_data"
    }
   ],
   "source": [
    "# Comparing loan amount with loan status\n",
    "sbn.boxplot( y=loan_Information_df1[\"loan_amnt\"], x= loan_Information_df1[\"loan_status\"])\n",
    "plt.show()"
   ]
  },
  {
   "cell_type": "code",
   "execution_count": null,
   "metadata": {},
   "outputs": [],
   "source": []
  },
  {
   "cell_type": "markdown",
   "metadata": {},
   "source": [
    "#### Observation for above 2 plots\n",
    "\n",
    "1. As we can see from above 2 plot, then we can say that 5000*5000(approx number of defaulters * approx mean of loan amt - approx mean of total pmt for charged off) i.e. mean loss for the company will be 25000000 \n",
    "2.  maximum loss  = approx. : 5000*7500 = 37500000\n",
    "3. minimum loss = approx.  5000*2500 = 12500000\n",
    "2. From above plot the applicants taken loan for higher loan amount tend to be defaulters"
   ]
  },
  {
   "cell_type": "code",
   "execution_count": 231,
   "metadata": {},
   "outputs": [
    {
     "data": {
      "image/png": "[encoded data removed]",
      "text/plain": [
       "<Figure size 864x576 with 1 Axes>"
      ]
     },
     "metadata": {
      "needs_background": "light"
     },
     "output_type": "display_data"
    }
   ],
   "source": [
    "# The reasons for which people take loan in differt terms\n",
    "plt.figure(figsize=(12,8))\n",
    "sbn.countplot( x=\"term\", hue='purpose', data=loan_Information_df1)\n",
    "plt.xlabel('Loan Term in Months')\n",
    "plt.show()"
   ]
  },
  {
   "cell_type": "code",
   "execution_count": 250,
   "metadata": {},
   "outputs": [
    {
     "data": {
      "image/png": "[encoded data removed]",
      "text/plain": [
       "<Figure size 456.375x360 with 1 Axes>"
      ]
     },
     "metadata": {
      "needs_background": "light"
     },
     "output_type": "display_data"
    }
   ],
   "source": [
    "#Does verification of users affect the number of defaults?\n",
    "sbn.displot(loan_Information_df1, x=loan_Information_df1[\"verification_status\"], hue=loan_Information_df1[\"loan_status\"],  multiple=\"dodge\")\n",
    "plt.show()"
   ]
  },
  {
   "cell_type": "code",
   "execution_count": 251,
   "metadata": {},
   "outputs": [
    {
     "name": "stdout",
     "output_type": "stream",
     "text": [
      "7.287449392712551\n",
      "1.0654165778819518\n",
      "5.979650543362455\n"
     ]
    }
   ],
   "source": [
    "verifiedPercentateOfDefaulters = len(loan_Information_df1[(loan_Information_df1.verification_status=='Verified') & (loan_Information_df1.loan_status=='Charged Off')])*100/(len(loan_Information_df1.verification_status=='Verified'))\n",
    "print(rentedPercentateOfDefaulters)                                                 \n",
    "\n",
    "SourceVerifiedPercentateOfDefaulters = len(loan_Information_df1[(loan_Information_df1.verification_status=='Source Verified') & (loan_Information_df1.loan_status=='Charged Off')])*100/(len(loan_Information_df1.verification_status=='Source Verified'))\n",
    "print(OwnPercentateOfDefaulters)\n",
    "                                                     \n",
    "NotVerifiedPercentateOfDefaulters = len(loan_Information_df1[(loan_Information_df1.verification_status=='Not Verified') & (loan_Information_df1.loan_status=='Charged Off')])*100/(len(loan_Information_df1.verification_status=='Not Verified'))\n",
    "print(MortgagePercentateOfDefaulters)"
   ]
  },
  {
   "cell_type": "markdown",
   "metadata": {},
   "source": [
    "#### Observation \n",
    "If the loan applicant is source verified then chances of that person being defaulter is less.\n",
    "So, effort should be maid that all the applicants are source verified."
   ]
  },
  {
   "cell_type": "code",
   "execution_count": 265,
   "metadata": {},
   "outputs": [
    {
     "data": {
      "text/plain": [
       "<AxesSubplot:xlabel='loan_status'>"
      ]
     },
     "execution_count": 265,
     "metadata": {},
     "output_type": "execute_result"
    },
    {
     "data": {
      "image/png": "[encoded data removed]",
      "text/plain": [
       "<Figure size 432x288 with 2 Axes>"
      ]
     },
     "metadata": {
      "needs_background": "light"
     },
     "output_type": "display_data"
    }
   ],
   "source": [
    "# Does annual income affect on defaults?\n",
    "HM = pd.pivot_table(data=loan_Information_df1, columns = 'loan_status', values = 'annual_inc')\n",
    "sbn.heatmap(HM,cmap='Blues')"
   ]
  },
  {
   "cell_type": "markdown",
   "metadata": {},
   "source": [
    "#### Observation \n",
    "1. Annual Income highly impact the defaulters\n",
    "2. Above plot shows that loan applicants with less annual income are the defaulters"
   ]
  },
  {
   "cell_type": "code",
   "execution_count": 291,
   "metadata": {},
   "outputs": [
    {
     "data": {
      "text/plain": [
       "<AxesSubplot:xlabel='loan_status'>"
      ]
     },
     "execution_count": 291,
     "metadata": {},
     "output_type": "execute_result"
    },
    {
     "data": {
      "image/png": "[encoded data removed]",
      "text/plain": [
       "<Figure size 432x288 with 2 Axes>"
      ]
     },
     "metadata": {
      "needs_background": "light"
     },
     "output_type": "display_data"
    }
   ],
   "source": [
    "# Does intrest rate affect on defaults?\n",
    "HM = pd.pivot_table(data=loan_Information_df1, columns = 'loan_status', values = 'int_rate')\n",
    "sbn.heatmap(HM,cmap='Greens')"
   ]
  },
  {
   "cell_type": "markdown",
   "metadata": {},
   "source": [
    "#### Observation\n",
    "1. high interest rate lead to more defaulters\n",
    "2. low interest rate result in less number of defaulters"
   ]
  },
  {
   "cell_type": "code",
   "execution_count": 295,
   "metadata": {},
   "outputs": [
    {
     "data": {
      "text/plain": [
       "<AxesSubplot:xlabel='loan_status', ylabel='home_ownership'>"
      ]
     },
     "execution_count": 295,
     "metadata": {},
     "output_type": "execute_result"
    },
    {
     "data": {
      "image/png": "[encoded data removed]",
      "text/plain": [
       "<Figure size 432x288 with 2 Axes>"
      ]
     },
     "metadata": {
      "needs_background": "light"
     },
     "output_type": "display_data"
    }
   ],
   "source": [
    "# Does intrest rate affect on defaults?\n",
    "HM = pd.pivot_table(data=loan_Information_df1,index='home_ownership', columns = 'loan_status', values = 'dti')\n",
    "sbn.heatmap(HM,cmap='Reds')"
   ]
  },
  {
   "cell_type": "markdown",
   "metadata": {},
   "source": [
    "#### Observation \n",
    "Loan applicants who have high 'dti' 1.e. above 14 percentage + Mortgage are defaulters"
   ]
  },
  {
   "cell_type": "code",
   "execution_count": null,
   "metadata": {},
   "outputs": [],
   "source": []
  }
 ],
 "metadata": {
  "colab": {
   "collapsed_sections": [],
   "name": "Session 3 Practice questions_sol.ipynb",
   "provenance": []
  },
  "kernelspec": {
   "display_name": "Python 3 (ipykernel)",
   "language": "python",
   "name": "python3"
  },
  "language_info": {
   "codemirror_mode": {
    "name": "ipython",
    "version": 3
   },
   "file_extension": ".py",
   "mimetype": "text/x-python",
   "name": "python",
   "nbconvert_exporter": "python",
   "pygments_lexer": "ipython3",
   "version": "3.9.12"
  }
 },
 "nbformat": 4,
 "nbformat_minor": 1
}
